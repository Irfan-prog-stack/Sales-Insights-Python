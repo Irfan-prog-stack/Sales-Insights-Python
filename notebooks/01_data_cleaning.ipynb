{
 "cells": [
  {
   "cell_type": "code",
   "execution_count": 1,
   "id": "dfdaa644-8948-474c-8cd5-c67c1e9bd98b",
   "metadata": {},
   "outputs": [],
   "source": [
    "import pandas as pd"
   ]
  },
  {
   "cell_type": "code",
   "execution_count": 2,
   "id": "eb5e3fe3-bdd8-4c24-a95d-49e1500a8cd4",
   "metadata": {},
   "outputs": [
    {
     "name": "stdout",
     "output_type": "stream",
     "text": [
      "   OrderID Region   Product  Quantity  Price  TotalSale  Profit SaleLevel  \\\n",
      "0     1001  North  Keyboard        10     50        500   100.0       Low   \n",
      "1     1002  South     Mouse         5     30        150    30.0       Low   \n",
      "2     1003   East   Monitor        12    200       2400   480.0      High   \n",
      "3     1004  North     Mouse         7     30        210    42.0       Low   \n",
      "4     1005   West  Keyboard        15     50        750   150.0      High   \n",
      "\n",
      "   DiscountedPrice    Category   OrderDate  Order_Month Month_Name  \n",
      "0             45.0      Typing  2024-08-22            8        Aug  \n",
      "1             27.0      Screen  2024-09-15            9        Sep  \n",
      "2            180.0  Controller  2024-01-18            1        Jan  \n",
      "3             27.0      Typing  2024-12-15           12        Dec  \n",
      "4             45.0  Controller  2024-08-09            8        Aug  \n"
     ]
    }
   ],
   "source": [
    "file_path = '../Data/cleaned_sales_data.csv'\n",
    "df = pd.read_csv(file_path)\n",
    "print(df.head())"
   ]
  },
  {
   "cell_type": "code",
   "execution_count": null,
   "id": "a43cbb3d-b92c-46ea-a535-686cbc7d51ec",
   "metadata": {},
   "outputs": [],
   "source": []
  }
 ],
 "metadata": {
  "kernelspec": {
   "display_name": "Python [conda env:base] *",
   "language": "python",
   "name": "conda-base-py"
  },
  "language_info": {
   "codemirror_mode": {
    "name": "ipython",
    "version": 3
   },
   "file_extension": ".py",
   "mimetype": "text/x-python",
   "name": "python",
   "nbconvert_exporter": "python",
   "pygments_lexer": "ipython3",
   "version": "3.13.5"
  }
 },
 "nbformat": 4,
 "nbformat_minor": 5
}
